{
 "cells": [
  {
   "cell_type": "markdown",
   "metadata": {},
   "source": [
    "# Timetable in Python"
   ]
  },
  {
   "cell_type": "markdown",
   "metadata": {},
   "source": [
    "First, we need to import the required libraries"
   ]
  },
  {
   "cell_type": "code",
   "execution_count": 6,
   "metadata": {
    "collapsed": true
   },
   "outputs": [],
   "source": [
    "from json import loads\n",
    "import datetime"
   ]
  },
  {
   "cell_type": "markdown",
   "metadata": {},
   "source": [
    "We need to load the timetable data from file and parse it into a Python object"
   ]
  },
  {
   "cell_type": "code",
   "execution_count": 7,
   "metadata": {
    "collapsed": true
   },
   "outputs": [],
   "source": [
    "# TimetableData = loads(open(\"TimetableData.json\", \"rb\").read())\n",
    "# Normally, it would be read from a file but for this to work in the notebook viewer the string has to be in the notebook.\n",
    "\n",
    "TimeTableData = loads(\"\"\"\n",
    "{\n",
    "    \"MONDAY\": [\n",
    "        {\n",
    "            \"Name\": \"Registered Study\",\n",
    "            \"Time\": \"09:05\",\n",
    "            \"Room\": \"Library\"\n",
    "        },\n",
    "        {\n",
    "            \"Name\": \"History\",\n",
    "            \"Time\": \"11:15\",\n",
    "            \"Room\": \"History & German Room\"\n",
    "        },\n",
    "        {\n",
    "            \"Name\": \"Physics\",\n",
    "            \"Time\": \"13:50\",\n",
    "            \"Room\": \"Physics Room\"\n",
    "        }\n",
    "    ]\n",
    "}\n",
    "\"\"\")"
   ]
  },
  {
   "cell_type": "markdown",
   "metadata": {},
   "source": [
    "We need a list of days and their corresponding weekday numbers used by the datetime library"
   ]
  },
  {
   "cell_type": "code",
   "execution_count": 8,
   "metadata": {
    "collapsed": true
   },
   "outputs": [],
   "source": [
    "Weekdays = {\n",
    "    \"MONDAY\": 0,\n",
    "    \"TUESDAY\": 1,\n",
    "    \"WEDNESDAY\": 2,\n",
    "    \"THURSDAY\": 3,\n",
    "    \"FRIDAY\": 4\n",
    "}"
   ]
  },
  {
   "cell_type": "markdown",
   "metadata": {},
   "source": [
    "Now lets ask the user if they want to see today's timetable or the timetable for a different day. A variable is set so we know when we're looking for"
   ]
  },
  {
   "cell_type": "code",
   "execution_count": 9,
   "metadata": {
    "collapsed": false
   },
   "outputs": [
    {
     "name": "stdout",
     "output_type": "stream",
     "text": [
      "Would you like to see [T]oday's timetable or the timetable for [A]nother day? A\n",
      "Which day would you like to see the timetable for? [Monday/Tuesday/Wednesday/Thursday/Friday] Monday\n"
     ]
    }
   ],
   "source": [
    "dayForTable = \"\"\n",
    "\n",
    "whichTable = raw_input(\"Would you like to see [T]oday's timetable or the timetable for [A]nother day? \").upper()\n",
    "\n",
    "if (whichTable == \"T\"):\n",
    "    dayForTable = Weekdays[datetime.datetime.today().weekday()] # Set it to the current day of the week\n",
    "elif (whichTable == \"A\"):\n",
    "    dayForTable = raw_input(\"Which day would you like to see the timetable for? [Monday/Tuesday/Wednesday/Thursday/Friday] \").upper() # Set it to the day of the week the user entered\n",
    "else:\n",
    "    print(\"Invalid option. Enter either T or A.\")"
   ]
  },
  {
   "cell_type": "markdown",
   "metadata": {},
   "source": [
    "Now we have the day, we print out the lessons that are on that day for the user to view by looping through the lessons for that day."
   ]
  },
  {
   "cell_type": "code",
   "execution_count": 10,
   "metadata": {
    "collapsed": false
   },
   "outputs": [
    {
     "name": "stdout",
     "output_type": "stream",
     "text": [
      "Lessons:\n",
      "------------\n",
      "Lesson Name: Registered Study\n",
      "Time: 09:05\n",
      "Room: Library\n",
      "------------\n",
      "Lesson Name: History\n",
      "Time: 11:15\n",
      "Room: History & German Room\n",
      "------------\n",
      "Lesson Name: Physics\n",
      "Time: 13:50\n",
      "Room: Physics Room\n",
      "------------\n"
     ]
    }
   ],
   "source": [
    "lessons = TimetableData[dayForTable] # Get the array of lessons for that day\n",
    "\n",
    "print(\"Lessons:\\n------------\")\n",
    "for lesson in lessons:\n",
    "    print(\"Lesson Name: \" + lesson[\"Name\"])\n",
    "    print(\"Time: \" + lesson[\"Time\"])\n",
    "    print(\"Room: \" + lesson[\"Room\"])\n",
    "    print(\"------------\")"
   ]
  }
 ],
 "metadata": {
  "kernelspec": {
   "display_name": "Python 2",
   "language": "python",
   "name": "python2"
  },
  "language_info": {
   "codemirror_mode": {
    "name": "ipython",
    "version": 2
   },
   "file_extension": ".py",
   "mimetype": "text/x-python",
   "name": "python",
   "nbconvert_exporter": "python",
   "pygments_lexer": "ipython2",
   "version": "2.7.10"
  }
 },
 "nbformat": 4,
 "nbformat_minor": 0
}
